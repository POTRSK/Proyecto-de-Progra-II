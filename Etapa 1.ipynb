{
 "cells": [
  {
   "cell_type": "markdown",
   "id": "31126fa4",
   "metadata": {},
   "source": [
    "# Proyecto I: Programación para Estadística II  \n",
    "\n",
    "**Participantes:**  \n",
    "- Anderson Martínez Abarca — *Carnet C4G876*  \n",
    "- Sebastián Calvo Quesada — *Carnet C4D570*  \n",
    "\n",
    "---\n",
    "\n",
    "## Descripción del proyecto  \n",
    "Los datos utilizados en este proyecto provienen de la **Max Planck Institute Weather Station** y corresponden a registros del clima tomados cada 10 minutos durante el año **2020**.  \n",
    "\n",
    "Este conjunto de datos ofrece **mediciones atmosféricas completas**, incluyendo:  \n",
    "- Temperatura del aire  \n",
    "-  Humedad  \n",
    "-  Patrones de viento  \n",
    "-  Radiación  \n",
    "-  Precipitación  "
   ]
  },
  {
   "cell_type": "markdown",
   "id": "566b41e2",
   "metadata": {},
   "source": [
    "## Carga de datos\n",
    "Para el análisis de este proyecto utilizamos los paquetes **pandas** y **os**, con el fin de gestionar la ruta de trabajo y cargar la base de datos.\n",
    "\n"
   ]
  },
  {
   "cell_type": "code",
   "execution_count": 2,
   "id": "59394a04",
   "metadata": {},
   "outputs": [
    {
     "data": {
      "application/vnd.microsoft.datawrangler.viewer.v0+json": {
       "columns": [
        {
         "name": "index",
         "rawType": "int64",
         "type": "integer"
        },
        {
         "name": "date",
         "rawType": "datetime64[ns]",
         "type": "datetime"
        },
        {
         "name": "p",
         "rawType": "float64",
         "type": "float"
        },
        {
         "name": "T",
         "rawType": "float64",
         "type": "float"
        },
        {
         "name": "Tpot",
         "rawType": "float64",
         "type": "float"
        },
        {
         "name": "Tdew",
         "rawType": "float64",
         "type": "float"
        },
        {
         "name": "rh",
         "rawType": "float64",
         "type": "float"
        },
        {
         "name": "VPmax",
         "rawType": "float64",
         "type": "float"
        },
        {
         "name": "VPact",
         "rawType": "float64",
         "type": "float"
        },
        {
         "name": "VPdef",
         "rawType": "float64",
         "type": "float"
        },
        {
         "name": "sh",
         "rawType": "float64",
         "type": "float"
        },
        {
         "name": "H2OC",
         "rawType": "float64",
         "type": "float"
        },
        {
         "name": "rho",
         "rawType": "float64",
         "type": "float"
        },
        {
         "name": "wv",
         "rawType": "float64",
         "type": "float"
        },
        {
         "name": "max. wv",
         "rawType": "float64",
         "type": "float"
        },
        {
         "name": "wd",
         "rawType": "float64",
         "type": "float"
        },
        {
         "name": "rain",
         "rawType": "float64",
         "type": "float"
        },
        {
         "name": "raining",
         "rawType": "float64",
         "type": "float"
        },
        {
         "name": "SWDR",
         "rawType": "float64",
         "type": "float"
        },
        {
         "name": "PAR",
         "rawType": "float64",
         "type": "float"
        },
        {
         "name": "max. PAR",
         "rawType": "float64",
         "type": "float"
        },
        {
         "name": "Tlog",
         "rawType": "float64",
         "type": "float"
        }
       ],
       "ref": "ab0e088e-4192-4336-959b-6553d1da1f9b",
       "rows": [
        [
         "0",
         "2020-01-01 00:10:00",
         "1008.89",
         "0.71",
         "273.18",
         "-1.33",
         "86.1",
         "6.43",
         "5.54",
         "0.89",
         "3.42",
         "5.49",
         "1280.62",
         "1.02",
         "1.6",
         "224.3",
         "0.0",
         "0.0",
         "0.0",
         "0.0",
         "0.0",
         "11.45"
        ],
        [
         "1",
         "2020-01-01 00:20:00",
         "1008.76",
         "0.75",
         "273.22",
         "-1.44",
         "85.2",
         "6.45",
         "5.49",
         "0.95",
         "3.39",
         "5.45",
         "1280.33",
         "0.43",
         "0.84",
         "206.8",
         "0.0",
         "0.0",
         "0.0",
         "0.0",
         "0.0",
         "11.51"
        ],
        [
         "2",
         "2020-01-01 00:30:00",
         "1008.66",
         "0.73",
         "273.21",
         "-1.48",
         "85.1",
         "6.44",
         "5.48",
         "0.96",
         "3.39",
         "5.43",
         "1280.29",
         "0.61",
         "1.48",
         "197.1",
         "0.0",
         "0.0",
         "0.0",
         "0.0",
         "0.0",
         "11.6"
        ],
        [
         "3",
         "2020-01-01 00:40:00",
         "1008.64",
         "0.37",
         "272.86",
         "-1.64",
         "86.3",
         "6.27",
         "5.41",
         "0.86",
         "3.35",
         "5.37",
         "1281.97",
         "1.11",
         "1.48",
         "206.4",
         "0.0",
         "0.0",
         "0.0",
         "0.0",
         "0.0",
         "11.7"
        ],
        [
         "4",
         "2020-01-01 00:50:00",
         "1008.61",
         "0.33",
         "272.82",
         "-1.5",
         "87.4",
         "6.26",
         "5.47",
         "0.79",
         "3.38",
         "5.42",
         "1282.08",
         "0.49",
         "1.4",
         "209.6",
         "0.0",
         "0.0",
         "0.0",
         "0.0",
         "0.0",
         "11.81"
        ]
       ],
       "shape": {
        "columns": 21,
        "rows": 5
       }
      },
      "text/html": [
       "<div>\n",
       "<style scoped>\n",
       "    .dataframe tbody tr th:only-of-type {\n",
       "        vertical-align: middle;\n",
       "    }\n",
       "\n",
       "    .dataframe tbody tr th {\n",
       "        vertical-align: top;\n",
       "    }\n",
       "\n",
       "    .dataframe thead th {\n",
       "        text-align: right;\n",
       "    }\n",
       "</style>\n",
       "<table border=\"1\" class=\"dataframe\">\n",
       "  <thead>\n",
       "    <tr style=\"text-align: right;\">\n",
       "      <th></th>\n",
       "      <th>date</th>\n",
       "      <th>p</th>\n",
       "      <th>T</th>\n",
       "      <th>Tpot</th>\n",
       "      <th>Tdew</th>\n",
       "      <th>rh</th>\n",
       "      <th>VPmax</th>\n",
       "      <th>VPact</th>\n",
       "      <th>VPdef</th>\n",
       "      <th>sh</th>\n",
       "      <th>...</th>\n",
       "      <th>rho</th>\n",
       "      <th>wv</th>\n",
       "      <th>max. wv</th>\n",
       "      <th>wd</th>\n",
       "      <th>rain</th>\n",
       "      <th>raining</th>\n",
       "      <th>SWDR</th>\n",
       "      <th>PAR</th>\n",
       "      <th>max. PAR</th>\n",
       "      <th>Tlog</th>\n",
       "    </tr>\n",
       "  </thead>\n",
       "  <tbody>\n",
       "    <tr>\n",
       "      <th>0</th>\n",
       "      <td>2020-01-01 00:10:00</td>\n",
       "      <td>1008.89</td>\n",
       "      <td>0.71</td>\n",
       "      <td>273.18</td>\n",
       "      <td>-1.33</td>\n",
       "      <td>86.1</td>\n",
       "      <td>6.43</td>\n",
       "      <td>5.54</td>\n",
       "      <td>0.89</td>\n",
       "      <td>3.42</td>\n",
       "      <td>...</td>\n",
       "      <td>1280.62</td>\n",
       "      <td>1.02</td>\n",
       "      <td>1.60</td>\n",
       "      <td>224.3</td>\n",
       "      <td>0.0</td>\n",
       "      <td>0.0</td>\n",
       "      <td>0.0</td>\n",
       "      <td>0.0</td>\n",
       "      <td>0.0</td>\n",
       "      <td>11.45</td>\n",
       "    </tr>\n",
       "    <tr>\n",
       "      <th>1</th>\n",
       "      <td>2020-01-01 00:20:00</td>\n",
       "      <td>1008.76</td>\n",
       "      <td>0.75</td>\n",
       "      <td>273.22</td>\n",
       "      <td>-1.44</td>\n",
       "      <td>85.2</td>\n",
       "      <td>6.45</td>\n",
       "      <td>5.49</td>\n",
       "      <td>0.95</td>\n",
       "      <td>3.39</td>\n",
       "      <td>...</td>\n",
       "      <td>1280.33</td>\n",
       "      <td>0.43</td>\n",
       "      <td>0.84</td>\n",
       "      <td>206.8</td>\n",
       "      <td>0.0</td>\n",
       "      <td>0.0</td>\n",
       "      <td>0.0</td>\n",
       "      <td>0.0</td>\n",
       "      <td>0.0</td>\n",
       "      <td>11.51</td>\n",
       "    </tr>\n",
       "    <tr>\n",
       "      <th>2</th>\n",
       "      <td>2020-01-01 00:30:00</td>\n",
       "      <td>1008.66</td>\n",
       "      <td>0.73</td>\n",
       "      <td>273.21</td>\n",
       "      <td>-1.48</td>\n",
       "      <td>85.1</td>\n",
       "      <td>6.44</td>\n",
       "      <td>5.48</td>\n",
       "      <td>0.96</td>\n",
       "      <td>3.39</td>\n",
       "      <td>...</td>\n",
       "      <td>1280.29</td>\n",
       "      <td>0.61</td>\n",
       "      <td>1.48</td>\n",
       "      <td>197.1</td>\n",
       "      <td>0.0</td>\n",
       "      <td>0.0</td>\n",
       "      <td>0.0</td>\n",
       "      <td>0.0</td>\n",
       "      <td>0.0</td>\n",
       "      <td>11.60</td>\n",
       "    </tr>\n",
       "    <tr>\n",
       "      <th>3</th>\n",
       "      <td>2020-01-01 00:40:00</td>\n",
       "      <td>1008.64</td>\n",
       "      <td>0.37</td>\n",
       "      <td>272.86</td>\n",
       "      <td>-1.64</td>\n",
       "      <td>86.3</td>\n",
       "      <td>6.27</td>\n",
       "      <td>5.41</td>\n",
       "      <td>0.86</td>\n",
       "      <td>3.35</td>\n",
       "      <td>...</td>\n",
       "      <td>1281.97</td>\n",
       "      <td>1.11</td>\n",
       "      <td>1.48</td>\n",
       "      <td>206.4</td>\n",
       "      <td>0.0</td>\n",
       "      <td>0.0</td>\n",
       "      <td>0.0</td>\n",
       "      <td>0.0</td>\n",
       "      <td>0.0</td>\n",
       "      <td>11.70</td>\n",
       "    </tr>\n",
       "    <tr>\n",
       "      <th>4</th>\n",
       "      <td>2020-01-01 00:50:00</td>\n",
       "      <td>1008.61</td>\n",
       "      <td>0.33</td>\n",
       "      <td>272.82</td>\n",
       "      <td>-1.50</td>\n",
       "      <td>87.4</td>\n",
       "      <td>6.26</td>\n",
       "      <td>5.47</td>\n",
       "      <td>0.79</td>\n",
       "      <td>3.38</td>\n",
       "      <td>...</td>\n",
       "      <td>1282.08</td>\n",
       "      <td>0.49</td>\n",
       "      <td>1.40</td>\n",
       "      <td>209.6</td>\n",
       "      <td>0.0</td>\n",
       "      <td>0.0</td>\n",
       "      <td>0.0</td>\n",
       "      <td>0.0</td>\n",
       "      <td>0.0</td>\n",
       "      <td>11.81</td>\n",
       "    </tr>\n",
       "  </tbody>\n",
       "</table>\n",
       "<p>5 rows × 21 columns</p>\n",
       "</div>"
      ],
      "text/plain": [
       "                 date        p     T    Tpot  Tdew    rh  VPmax  VPact  VPdef  \\\n",
       "0 2020-01-01 00:10:00  1008.89  0.71  273.18 -1.33  86.1   6.43   5.54   0.89   \n",
       "1 2020-01-01 00:20:00  1008.76  0.75  273.22 -1.44  85.2   6.45   5.49   0.95   \n",
       "2 2020-01-01 00:30:00  1008.66  0.73  273.21 -1.48  85.1   6.44   5.48   0.96   \n",
       "3 2020-01-01 00:40:00  1008.64  0.37  272.86 -1.64  86.3   6.27   5.41   0.86   \n",
       "4 2020-01-01 00:50:00  1008.61  0.33  272.82 -1.50  87.4   6.26   5.47   0.79   \n",
       "\n",
       "     sh  ...      rho    wv  max. wv     wd  rain  raining  SWDR  PAR  \\\n",
       "0  3.42  ...  1280.62  1.02     1.60  224.3   0.0      0.0   0.0  0.0   \n",
       "1  3.39  ...  1280.33  0.43     0.84  206.8   0.0      0.0   0.0  0.0   \n",
       "2  3.39  ...  1280.29  0.61     1.48  197.1   0.0      0.0   0.0  0.0   \n",
       "3  3.35  ...  1281.97  1.11     1.48  206.4   0.0      0.0   0.0  0.0   \n",
       "4  3.38  ...  1282.08  0.49     1.40  209.6   0.0      0.0   0.0  0.0   \n",
       "\n",
       "   max. PAR   Tlog  \n",
       "0       0.0  11.45  \n",
       "1       0.0  11.51  \n",
       "2       0.0  11.60  \n",
       "3       0.0  11.70  \n",
       "4       0.0  11.81  \n",
       "\n",
       "[5 rows x 21 columns]"
      ]
     },
     "execution_count": 2,
     "metadata": {},
     "output_type": "execute_result"
    }
   ],
   "source": [
    "import pandas as pd\n",
    "\n",
    "df = pd.read_csv(r'C:\\Users\\ETLP\\Downloads\\cleaned_weather.csv')\n",
    "df['date'] = pd.to_datetime(df['date'])\n",
    "df.head()\n",
    "\n"
   ]
  },
  {
   "cell_type": "markdown",
   "id": "41c765f9",
   "metadata": {},
   "source": [
    "## Registro climático\n",
    "Se crea una clase con el nombre de registro climatico, la cual se encarga de mostrar la fecha, temperatura, humedad, preison y punto de rocío."
   ]
  },
  {
   "cell_type": "code",
   "execution_count": null,
   "id": "05c267fc",
   "metadata": {},
   "outputs": [],
   "source": [
    "#Clase RegistroClimatico\n",
    "from datetime import datetime #Se utliza el paquete datatime, para manejar las fechas de cada uno de los días\n",
    "\n",
    "class RegistroClimatico:\n",
    "    def __init__(self, fecha, temperatura, humedad, presion, tdew):\n",
    "        self.fecha = fecha\n",
    "        self.temperatura = temperatura\n",
    "        self.humedad = humedad\n",
    "        self.presion = presion\n",
    "        self.tdew = tdew\n",
    "    \n",
    "    def mostrar_info(self):\n",
    "        return f\"Fecha: {self.fecha}, Temperatura: {self.temperatura}°C, Humedad: {self.humedad}%, Presión: {self.presion} mbar, Punto de rocío: {self.tdew}°C\"\n",
    "        \n",
    "    "
   ]
  },
  {
   "cell_type": "markdown",
   "id": "7dc9919b",
   "metadata": {},
   "source": [
    "Prueba de utilización de la clase **RegistroClimatico**."
   ]
  },
  {
   "cell_type": "code",
   "execution_count": null,
   "id": "88620b88",
   "metadata": {},
   "outputs": [
    {
     "data": {
      "text/plain": [
       "'Fecha: 2020-01-01 00:10:00, Temperatura: 0.71°C, Humedad: 86.1%, Presión: 1008.89 mbar, Punto de rocío: -1.33°C'"
      ]
     },
     "execution_count": 4,
     "metadata": {},
     "output_type": "execute_result"
    }
   ],
   "source": [
    "fila = df.iloc[0] #Extraemos el primer registro para la prueba\n",
    "registro = RegistroClimatico(fila['date'], fila['T'], fila['rh'], fila['p'], fila['Tdew'])\n",
    "registro.mostrar_info()"
   ]
  },
  {
   "cell_type": "markdown",
   "id": "028b95e1",
   "metadata": {},
   "source": [
    "## Analizador\n",
    "Se crea una clase llamada analizador, la misma se encarga de detectar registros, alertas de olas de calor, humedad extrema y puntos de rocio. Además de calcular promedios, máximos y mínimos y por último guarda los días únicos en un set."
   ]
  },
  {
   "cell_type": "code",
   "execution_count": 6,
   "id": "f072a5ab",
   "metadata": {},
   "outputs": [],
   "source": [
    "class Analizador:\n",
    "    def __init__(self):\n",
    "        self.registros = []\n",
    "        self.alertas = {}\n",
    "        \n",
    "    def agregar_registro(self, registro):\n",
    "        self.registros.append(registro)\n",
    "    \n",
    "    def calcular_promedios(self):\n",
    "        total_temp = total_hum = total_pres = 0\n",
    "        n = len(self.registros)\n",
    "        for r in self.registros:\n",
    "            total_temp += r.temperatura\n",
    "            total_hum += r.humedad\n",
    "            total_pres += r.presion\n",
    "        return {\n",
    "            \"Temperatura_promedio\": f\"{round(total_temp / n, 2)} °C\",\n",
    "            \"Humedad_promedio\": f\"{round(total_hum / n, 2)} %\",\n",
    "            \"Presion_promedio\": f\"{round(total_pres / n, 2)} mbar\"\n",
    "        }\n",
    "        \n",
    "    def max_min(self):\n",
    "        temps = [r.temperatura for r in self.registros]\n",
    "        hums = [r.humedad for r in self.registros]\n",
    "        presiones = [r.presion for r in self.registros]\n",
    "        return {\n",
    "            \"Temperatura_MAX\": f\"{max(temps)} °C\",\n",
    "            \"Temperatura_MIN\": f\"{min(temps)} °C\",\n",
    "            \"Humedad_MAX\": f\"{max(hums)} %\",\n",
    "            \"Humedad_MIN\": f\"{min(hums)} %\",\n",
    "            \"Presion_MAX\": f\"{max(presiones)} mbar\",\n",
    "            \"Presion_MIN\": f\"{min(presiones)} mbar\"\n",
    "        }\n",
    "    \n",
    "    def generar_alerta(self, temp_umbral_calor = 40, hum_min = 20, hum_max = 90, temp_umbral_frio = 0):\n",
    "        self.alertas = {\"Olas_calor_detectadas\": [], \"Humedad_extrema_detectada\": [], \"Posible_rocio\": [], \"Ola de frío\": []}\n",
    "        \n",
    "        for r in self.registros:\n",
    "            if r.temperatura >= temp_umbral_calor:\n",
    "                self.alertas[\"Olas_calor_detectadas\"].append(r.fecha)\n",
    "            if r.humedad <= hum_min or r.humedad >= hum_max:\n",
    "                self.alertas[\"Humedad_extrema_detectada\"].append(r.fecha)\n",
    "            if abs(r.temperatura - r.tdew) <= 1:\n",
    "                self.alertas[\"Posible_rocio\"].append(r.fecha)\n",
    "            if r.temperatura <= temp_umbral_frio:\n",
    "                self.alertas[\"Ola de frío\"].append(r.fecha)\n",
    "        \n",
    "        return self.alertas\n",
    "    def dias_unicos(self):\n",
    "    # devuelve un set de fechas (solo día)\n",
    "        return {r.fecha.date() for r in self.registros}\n",
    "\n",
    "\n",
    "\n",
    "    "
   ]
  },
  {
   "cell_type": "markdown",
   "id": "fd8b6a26",
   "metadata": {},
   "source": [
    "Se pone a prueba el analizador en la base de datos, aplicandolo mediante un bucle for."
   ]
  },
  {
   "cell_type": "code",
   "execution_count": 7,
   "id": "905a97f1",
   "metadata": {},
   "outputs": [],
   "source": [
    "analizador = Analizador()\n",
    "\n",
    "for i in range(len(df)):\n",
    "    fila = df.iloc[i]\n",
    "    registro = RegistroClimatico(fila['date'], fila['T'], fila['rh'], fila['p'], fila['Tdew'])\n",
    "    analizador.agregar_registro(registro)\n",
    "\n"
   ]
  },
  {
   "cell_type": "markdown",
   "id": "aee190bc",
   "metadata": {},
   "source": [
    "## Promedios\n",
    "Se calculan los promedios de todos las variables. "
   ]
  },
  {
   "cell_type": "code",
   "execution_count": 8,
   "id": "7381f865",
   "metadata": {},
   "outputs": [
    {
     "name": "stdout",
     "output_type": "stream",
     "text": [
      "Promedios de las variables\n",
      "----------------------------\n",
      "+ Temperatura promedio: 10.82 °C\n",
      "+ Humedad promedio: 72.49 %\n",
      "+ Presion promedio: 989.99 mbar\n"
     ]
    }
   ],
   "source": [
    "promedios = analizador.calcular_promedios()\n",
    "print(\"Promedios de las variables\\n\" + \"-\"*28)\n",
    "for k, v in promedios.items():\n",
    "    print(f\"+ {k.replace('_', ' ')}: {v}\")\n",
    "\n"
   ]
  },
  {
   "cell_type": "markdown",
   "id": "188aedfb",
   "metadata": {},
   "source": [
    "## Máximos y mínimos \n",
    "A continuación se le presentan los máximos y mínimos de la base de datos."
   ]
  },
  {
   "cell_type": "code",
   "execution_count": 9,
   "id": "8f6260d6",
   "metadata": {},
   "outputs": [
    {
     "name": "stdout",
     "output_type": "stream",
     "text": [
      "Reporte de valores extremos\n",
      "---------------------------\n",
      " + Temperatura MAX: 34.8 °C\n",
      " + Temperatura MIN: -6.44 °C\n",
      " + Humedad MAX: 100.0 %\n",
      " + Humedad MIN: 21.16 %\n",
      " + Presion MAX: 1020.07 mbar\n",
      " + Presion MIN: 955.58 mbar\n"
     ]
    }
   ],
   "source": [
    "maximos_minimos = analizador.max_min()\n",
    "\n",
    "print(\"Reporte de valores extremos\\n\" + \"-\"*27)\n",
    "for k, v in maximos_minimos.items():\n",
    "    print(f\" + {k.replace('_', ' ')}: {v}\")\n"
   ]
  },
  {
   "cell_type": "markdown",
   "id": "6955a49d",
   "metadata": {},
   "source": [
    "## Conteo de alertas\n",
    "Se realiza un conteo de las alertas ante posibles olas de calor, humedad extrema y temperaturas muy frías (ola de frío)."
   ]
  },
  {
   "cell_type": "code",
   "execution_count": 10,
   "id": "95d117a5",
   "metadata": {},
   "outputs": [
    {
     "name": "stdout",
     "output_type": "stream",
     "text": [
      " Reporte de alertas meteorológicas\n",
      "----------------------------------\n",
      "\n",
      " + Olas calor detectadas : 0 \n",
      "\n",
      " + Humedad extrema detectada : 11340 \n",
      "\n",
      " + Posible rocio : 8136 \n",
      "\n",
      " + Ola de frío : 2283 \n"
     ]
    }
   ],
   "source": [
    "alertas = analizador.generar_alerta(temp_umbral_calor=40, hum_min=20, hum_max=90, temp_umbral_frio= 0)\n",
    "print(\" Reporte de alertas meteorológicas\\n\" + \"-\"*34)\n",
    "\n",
    "for tipo, fechas in alertas.items():\n",
    "    conteo = len(fechas)\n",
    "    print(f\"\\n + {tipo.replace('_', ' ')} : {conteo} \")\n",
    "    \n",
    "\n"
   ]
  },
  {
   "cell_type": "code",
   "execution_count": 14,
   "id": "5ea89366",
   "metadata": {},
   "outputs": [
    {
     "name": "stdout",
     "output_type": "stream",
     "text": [
      "Total de días únicos: 367\n"
     ]
    }
   ],
   "source": [
    "dias = analizador.dias_unicos()\n",
    "print(\"Total de días únicos:\", len(dias))"
   ]
  },
  {
   "cell_type": "markdown",
   "id": "ce52528d",
   "metadata": {},
   "source": [
    "Observe que el total de días únicos nos dío como resultado 367, esto nos indica que se tomaron datos todos los días del año 2020."
   ]
  }
 ],
 "metadata": {
  "kernelspec": {
   "display_name": "base",
   "language": "python",
   "name": "python3"
  },
  "language_info": {
   "codemirror_mode": {
    "name": "ipython",
    "version": 3
   },
   "file_extension": ".py",
   "mimetype": "text/x-python",
   "name": "python",
   "nbconvert_exporter": "python",
   "pygments_lexer": "ipython3",
   "version": "3.13.5"
  }
 },
 "nbformat": 4,
 "nbformat_minor": 5
}
